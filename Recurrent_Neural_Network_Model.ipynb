{
  "nbformat": 4,
  "nbformat_minor": 0,
  "metadata": {
    "colab": {
      "provenance": []
    },
    "kernelspec": {
      "name": "python3",
      "display_name": "Python 3"
    },
    "language_info": {
      "name": "python"
    }
  },
  "cells": [
    {
      "cell_type": "code",
      "source": [
        "import numpy as np\n",
        "\n",
        "# Define the RNN class\n",
        "class RNN:\n",
        "    def __init__(self, input_size, hidden_size, output_size):\n",
        "        # Initialize the weight matrices with random values\n",
        "        self.W_hh = np.random.randn(hidden_size, hidden_size)\n",
        "        self.W_xh = np.random.randn(input_size, hidden_size)\n",
        "        self.W_yh = np.random.randn(hidden_size, output_size)\n",
        "\n",
        "    def forward(self, x, h_prev):\n",
        "        # Compute the hidden state using the input and previous hidden state\n",
        "        h = np.tanh(np.dot(x, self.W_xh) + np.dot(h_prev, self.W_hh))\n",
        "        # Compute the output using the hidden state\n",
        "        y = np.dot(h, self.W_yh)\n",
        "        return h, y\n",
        "\n",
        "# Define the swarm class\n",
        "class Swarm:\n",
        "    def __init__(self, num_agents, input_size, hidden_size, output_size):\n",
        "        self.num_agents = num_agents\n",
        "        self.rnn = RNN(input_size, hidden_size, output_size)\n",
        "        self.h_prev = np.zeros((num_agents, hidden_size))\n",
        "\n",
        "    def forward(self, inputs):\n",
        "        h_values = []\n",
        "        y_values = []\n",
        "        for i in range(self.num_agents):\n",
        "            x = inputs[i]\n",
        "            h, y = self.rnn.forward(x, self.h_prev[i])\n",
        "            self.h_prev[i] = h\n",
        "            h_values.append(h)\n",
        "            y_values.append(y)\n",
        "        return h_values, y_values\n",
        "\n",
        "# Example usage\n",
        "input_size = 3\n",
        "hidden_size = 4\n",
        "output_size = 2\n",
        "num_agents = 5\n",
        "\n",
        "# Create a swarm of agents with an RNN\n",
        "swarm = Swarm(num_agents, input_size, hidden_size, output_size)\n",
        "\n",
        "# Generate random inputs\n",
        "inputs = np.random.randn(num_agents, input_size)\n",
        "\n",
        "# Forward pass through the swarm\n",
        "h_values, y_values = swarm.forward(inputs)\n",
        "\n",
        "# Print the output and hidden state for each agent\n",
        "for i in range(num_agents):\n",
        "    print(f\"Agent {i + 1}:\")\n",
        "    print(\"Hidden state:\", h_values[i])\n",
        "    print(\"Output:\", y_values[i])\n",
        "    print()\n"
      ],
      "metadata": {
        "colab": {
          "base_uri": "https://localhost:8080/"
        },
        "id": "PtHnQyMCq-jp",
        "outputId": "c6e4bd81-3c6c-475d-e55d-129b93f22187"
      },
      "execution_count": null,
      "outputs": [
        {
          "output_type": "stream",
          "name": "stdout",
          "text": [
            "Agent 1:\n",
            "Hidden state: [-0.18835386  0.84397852  0.65904988 -0.15671147]\n",
            "Output: [-1.20136748 -1.06076694]\n",
            "\n",
            "Agent 2:\n",
            "Hidden state: [ 0.84684285  0.95643899 -0.62092077  0.95772233]\n",
            "Output: [ 0.37508303 -1.79270226]\n",
            "\n",
            "Agent 3:\n",
            "Hidden state: [ 0.42052155  0.80859111 -0.48650024  0.8770616 ]\n",
            "Output: [-0.11530912 -1.29124156]\n",
            "\n",
            "Agent 4:\n",
            "Hidden state: [-0.95583288 -0.99995489 -0.21851628 -0.99287992]\n",
            "Output: [1.39465575 1.97222477]\n",
            "\n",
            "Agent 5:\n",
            "Hidden state: [ 0.29752149  0.12583458 -0.95371175  0.98763683]\n",
            "Output: [ 0.52945475 -0.23421095]\n",
            "\n"
          ]
        }
      ]
    },
    {
      "cell_type": "markdown",
      "source": [
        "The code begins by importing the NumPy library, which is used for numerical computations.\n",
        "\n",
        "The RNN class is defined to represent the recurrent neural network. It has an __init__ method that initializes the weight matrices (W_hh, W_xh, W_yh) with random values. These weight matrices are used to compute the hidden state (h) and the output (y) in the forward pass.\n",
        "\n",
        "The forward method of the RNN class takes an input (x) and a previous hidden state (h_prev) as arguments. It computes the new hidden state (h) by applying the hyperbolic tangent activation function to the sum of the input multiplied by the W_xh matrix and the previous hidden state multiplied by the W_hh matrix. It then computes the output (y) by multiplying the hidden state (h) by the W_yh matrix. Finally, it returns the hidden state and the output.\n",
        "\n",
        "The Swarm class is defined to represent a swarm of agents that use the RNN for forward pass computations. It has an __init__ method that takes the number of agents, input size, hidden size, and output size as arguments. It creates an instance of the RNN class (self.rnn) and initializes the previous hidden state (self.h_prev) as an array of zeros with dimensions (num_agents, hidden_size).\n",
        "\n",
        "The forward method of the Swarm class takes the inputs as an argument. It iterates over the agents and performs the forward pass for each agent using the RNN instance (self.rnn). It updates the previous hidden state for each agent and stores the computed hidden states and outputs in separate lists. Finally, it returns the lists of hidden states and outputs.\n",
        "\n",
        "An example usage is provided at the end of the code. It specifies the input size, hidden size, output size, and the number of agents in the swarm. It creates an instance of the Swarm class and generates random inputs for the agents. It then performs a forward pass through the swarm, obtaining the hidden states and outputs for each agent. Finally, it prints the hidden state and output for each agent.\n",
        "\n"
      ],
      "metadata": {
        "id": "7mJyfrJPtFDJ"
      }
    },
    {
      "cell_type": "markdown",
      "source": [],
      "metadata": {
        "id": "NB8wX_ihsFIc"
      }
    },
    {
      "cell_type": "code",
      "source": [],
      "metadata": {
        "id": "xnqTC6eer-ui"
      },
      "execution_count": null,
      "outputs": []
    }
  ]
}